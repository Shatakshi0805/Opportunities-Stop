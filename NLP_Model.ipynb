{
  "nbformat": 4,
  "nbformat_minor": 0,
  "metadata": {
    "colab": {
      "name": "NLP Model.ipynb",
      "provenance": [],
      "collapsed_sections": []
    },
    "kernelspec": {
      "name": "python3",
      "display_name": "Python 3"
    }
  },
  "cells": [
    {
      "cell_type": "code",
      "metadata": {
        "id": "Ses5FabnEL-Y",
        "colab": {
          "base_uri": "https://localhost:8080/",
          "height": 1000
        },
        "outputId": "590fd363-12ba-4946-d959-08e39820ca2c"
      },
      "source": [
        "!pip install tensorflow==1.15\n",
        "!pip install \"tensorflow_hub>=0.6.0\"\n",
        "!pip3 install tensorflow_text==1.15\n",
        "!pip uninstall h5py\n",
        "!pip install h5py==2.10.0"
      ],
      "execution_count": 2,
      "outputs": [
        {
          "output_type": "stream",
          "name": "stdout",
          "text": [
            "Collecting tensorflow==1.15\n",
            "  Downloading tensorflow-1.15.0-cp37-cp37m-manylinux2010_x86_64.whl (412.3 MB)\n",
            "\u001b[K     |████████████████████████████████| 412.3 MB 11 kB/s \n",
            "\u001b[?25hRequirement already satisfied: grpcio>=1.8.6 in /usr/local/lib/python3.7/dist-packages (from tensorflow==1.15) (1.40.0)\n",
            "Collecting gast==0.2.2\n",
            "  Downloading gast-0.2.2.tar.gz (10 kB)\n",
            "Collecting tensorboard<1.16.0,>=1.15.0\n",
            "  Downloading tensorboard-1.15.0-py3-none-any.whl (3.8 MB)\n",
            "\u001b[K     |████████████████████████████████| 3.8 MB 60.6 MB/s \n",
            "\u001b[?25hRequirement already satisfied: wheel>=0.26 in /usr/local/lib/python3.7/dist-packages (from tensorflow==1.15) (0.37.0)\n",
            "Requirement already satisfied: keras-preprocessing>=1.0.5 in /usr/local/lib/python3.7/dist-packages (from tensorflow==1.15) (1.1.2)\n",
            "Requirement already satisfied: absl-py>=0.7.0 in /usr/local/lib/python3.7/dist-packages (from tensorflow==1.15) (0.12.0)\n",
            "Requirement already satisfied: six>=1.10.0 in /usr/local/lib/python3.7/dist-packages (from tensorflow==1.15) (1.15.0)\n",
            "Requirement already satisfied: astor>=0.6.0 in /usr/local/lib/python3.7/dist-packages (from tensorflow==1.15) (0.8.1)\n",
            "Requirement already satisfied: opt-einsum>=2.3.2 in /usr/local/lib/python3.7/dist-packages (from tensorflow==1.15) (3.3.0)\n",
            "Requirement already satisfied: numpy<2.0,>=1.16.0 in /usr/local/lib/python3.7/dist-packages (from tensorflow==1.15) (1.19.5)\n",
            "Requirement already satisfied: google-pasta>=0.1.6 in /usr/local/lib/python3.7/dist-packages (from tensorflow==1.15) (0.2.0)\n",
            "Requirement already satisfied: protobuf>=3.6.1 in /usr/local/lib/python3.7/dist-packages (from tensorflow==1.15) (3.17.3)\n",
            "Collecting keras-applications>=1.0.8\n",
            "  Downloading Keras_Applications-1.0.8-py3-none-any.whl (50 kB)\n",
            "\u001b[K     |████████████████████████████████| 50 kB 7.3 MB/s \n",
            "\u001b[?25hCollecting tensorflow-estimator==1.15.1\n",
            "  Downloading tensorflow_estimator-1.15.1-py2.py3-none-any.whl (503 kB)\n",
            "\u001b[K     |████████████████████████████████| 503 kB 67.9 MB/s \n",
            "\u001b[?25hRequirement already satisfied: wrapt>=1.11.1 in /usr/local/lib/python3.7/dist-packages (from tensorflow==1.15) (1.12.1)\n",
            "Requirement already satisfied: termcolor>=1.1.0 in /usr/local/lib/python3.7/dist-packages (from tensorflow==1.15) (1.1.0)\n",
            "Requirement already satisfied: h5py in /usr/local/lib/python3.7/dist-packages (from keras-applications>=1.0.8->tensorflow==1.15) (3.1.0)\n",
            "Requirement already satisfied: setuptools>=41.0.0 in /usr/local/lib/python3.7/dist-packages (from tensorboard<1.16.0,>=1.15.0->tensorflow==1.15) (57.4.0)\n",
            "Requirement already satisfied: markdown>=2.6.8 in /usr/local/lib/python3.7/dist-packages (from tensorboard<1.16.0,>=1.15.0->tensorflow==1.15) (3.3.4)\n",
            "Requirement already satisfied: werkzeug>=0.11.15 in /usr/local/lib/python3.7/dist-packages (from tensorboard<1.16.0,>=1.15.0->tensorflow==1.15) (1.0.1)\n",
            "Requirement already satisfied: importlib-metadata in /usr/local/lib/python3.7/dist-packages (from markdown>=2.6.8->tensorboard<1.16.0,>=1.15.0->tensorflow==1.15) (4.8.1)\n",
            "Requirement already satisfied: cached-property in /usr/local/lib/python3.7/dist-packages (from h5py->keras-applications>=1.0.8->tensorflow==1.15) (1.5.2)\n",
            "Requirement already satisfied: typing-extensions>=3.6.4 in /usr/local/lib/python3.7/dist-packages (from importlib-metadata->markdown>=2.6.8->tensorboard<1.16.0,>=1.15.0->tensorflow==1.15) (3.7.4.3)\n",
            "Requirement already satisfied: zipp>=0.5 in /usr/local/lib/python3.7/dist-packages (from importlib-metadata->markdown>=2.6.8->tensorboard<1.16.0,>=1.15.0->tensorflow==1.15) (3.5.0)\n",
            "Building wheels for collected packages: gast\n",
            "  Building wheel for gast (setup.py) ... \u001b[?25l\u001b[?25hdone\n",
            "  Created wheel for gast: filename=gast-0.2.2-py3-none-any.whl size=7554 sha256=e35e0d49faa3b306c69b30004839a50a78bf085f8b543977b55eb935c5f32b3a\n",
            "  Stored in directory: /root/.cache/pip/wheels/21/7f/02/420f32a803f7d0967b48dd823da3f558c5166991bfd204eef3\n",
            "Successfully built gast\n",
            "Installing collected packages: tensorflow-estimator, tensorboard, keras-applications, gast, tensorflow\n",
            "  Attempting uninstall: tensorflow-estimator\n",
            "    Found existing installation: tensorflow-estimator 2.6.0\n",
            "    Uninstalling tensorflow-estimator-2.6.0:\n",
            "      Successfully uninstalled tensorflow-estimator-2.6.0\n",
            "  Attempting uninstall: tensorboard\n",
            "    Found existing installation: tensorboard 2.6.0\n",
            "    Uninstalling tensorboard-2.6.0:\n",
            "      Successfully uninstalled tensorboard-2.6.0\n",
            "  Attempting uninstall: gast\n",
            "    Found existing installation: gast 0.4.0\n",
            "    Uninstalling gast-0.4.0:\n",
            "      Successfully uninstalled gast-0.4.0\n",
            "  Attempting uninstall: tensorflow\n",
            "    Found existing installation: tensorflow 2.6.0\n",
            "    Uninstalling tensorflow-2.6.0:\n",
            "      Successfully uninstalled tensorflow-2.6.0\n",
            "\u001b[31mERROR: pip's dependency resolver does not currently take into account all the packages that are installed. This behaviour is the source of the following dependency conflicts.\n",
            "tensorflow-probability 0.13.0 requires gast>=0.3.2, but you have gast 0.2.2 which is incompatible.\n",
            "kapre 0.3.5 requires tensorflow>=2.0.0, but you have tensorflow 1.15.0 which is incompatible.\u001b[0m\n",
            "Successfully installed gast-0.2.2 keras-applications-1.0.8 tensorboard-1.15.0 tensorflow-1.15.0 tensorflow-estimator-1.15.1\n"
          ]
        },
        {
          "output_type": "display_data",
          "data": {
            "application/vnd.colab-display-data+json": {
              "pip_warning": {
                "packages": [
                  "gast",
                  "tensorboard",
                  "tensorflow",
                  "tensorflow_estimator"
                ]
              }
            }
          },
          "metadata": {}
        },
        {
          "output_type": "stream",
          "name": "stdout",
          "text": [
            "Requirement already satisfied: tensorflow_hub>=0.6.0 in /usr/local/lib/python3.7/dist-packages (0.12.0)\n",
            "Requirement already satisfied: protobuf>=3.8.0 in /usr/local/lib/python3.7/dist-packages (from tensorflow_hub>=0.6.0) (3.17.3)\n",
            "Requirement already satisfied: numpy>=1.12.0 in /usr/local/lib/python3.7/dist-packages (from tensorflow_hub>=0.6.0) (1.19.5)\n",
            "Requirement already satisfied: six>=1.9 in /usr/local/lib/python3.7/dist-packages (from protobuf>=3.8.0->tensorflow_hub>=0.6.0) (1.15.0)\n",
            "Collecting tensorflow_text==1.15\n",
            "  Downloading tensorflow_text-1.15.0-cp37-cp37m-manylinux1_x86_64.whl (9.1 MB)\n",
            "\u001b[K     |████████████████████████████████| 9.1 MB 5.0 MB/s \n",
            "\u001b[?25hRequirement already satisfied: tensorflow<1.16,>=1.15.0 in /usr/local/lib/python3.7/dist-packages (from tensorflow_text==1.15) (1.15.0)\n",
            "Requirement already satisfied: wrapt>=1.11.1 in /usr/local/lib/python3.7/dist-packages (from tensorflow<1.16,>=1.15.0->tensorflow_text==1.15) (1.12.1)\n",
            "Requirement already satisfied: wheel>=0.26 in /usr/local/lib/python3.7/dist-packages (from tensorflow<1.16,>=1.15.0->tensorflow_text==1.15) (0.37.0)\n",
            "Requirement already satisfied: gast==0.2.2 in /usr/local/lib/python3.7/dist-packages (from tensorflow<1.16,>=1.15.0->tensorflow_text==1.15) (0.2.2)\n",
            "Requirement already satisfied: tensorboard<1.16.0,>=1.15.0 in /usr/local/lib/python3.7/dist-packages (from tensorflow<1.16,>=1.15.0->tensorflow_text==1.15) (1.15.0)\n",
            "Requirement already satisfied: grpcio>=1.8.6 in /usr/local/lib/python3.7/dist-packages (from tensorflow<1.16,>=1.15.0->tensorflow_text==1.15) (1.40.0)\n",
            "Requirement already satisfied: astor>=0.6.0 in /usr/local/lib/python3.7/dist-packages (from tensorflow<1.16,>=1.15.0->tensorflow_text==1.15) (0.8.1)\n",
            "Requirement already satisfied: google-pasta>=0.1.6 in /usr/local/lib/python3.7/dist-packages (from tensorflow<1.16,>=1.15.0->tensorflow_text==1.15) (0.2.0)\n",
            "Requirement already satisfied: opt-einsum>=2.3.2 in /usr/local/lib/python3.7/dist-packages (from tensorflow<1.16,>=1.15.0->tensorflow_text==1.15) (3.3.0)\n",
            "Requirement already satisfied: keras-applications>=1.0.8 in /usr/local/lib/python3.7/dist-packages (from tensorflow<1.16,>=1.15.0->tensorflow_text==1.15) (1.0.8)\n",
            "Requirement already satisfied: absl-py>=0.7.0 in /usr/local/lib/python3.7/dist-packages (from tensorflow<1.16,>=1.15.0->tensorflow_text==1.15) (0.12.0)\n",
            "Requirement already satisfied: keras-preprocessing>=1.0.5 in /usr/local/lib/python3.7/dist-packages (from tensorflow<1.16,>=1.15.0->tensorflow_text==1.15) (1.1.2)\n",
            "Requirement already satisfied: protobuf>=3.6.1 in /usr/local/lib/python3.7/dist-packages (from tensorflow<1.16,>=1.15.0->tensorflow_text==1.15) (3.17.3)\n",
            "Requirement already satisfied: six>=1.10.0 in /usr/local/lib/python3.7/dist-packages (from tensorflow<1.16,>=1.15.0->tensorflow_text==1.15) (1.15.0)\n",
            "Requirement already satisfied: tensorflow-estimator==1.15.1 in /usr/local/lib/python3.7/dist-packages (from tensorflow<1.16,>=1.15.0->tensorflow_text==1.15) (1.15.1)\n",
            "Requirement already satisfied: numpy<2.0,>=1.16.0 in /usr/local/lib/python3.7/dist-packages (from tensorflow<1.16,>=1.15.0->tensorflow_text==1.15) (1.19.5)\n",
            "Requirement already satisfied: termcolor>=1.1.0 in /usr/local/lib/python3.7/dist-packages (from tensorflow<1.16,>=1.15.0->tensorflow_text==1.15) (1.1.0)\n",
            "Requirement already satisfied: h5py in /usr/local/lib/python3.7/dist-packages (from keras-applications>=1.0.8->tensorflow<1.16,>=1.15.0->tensorflow_text==1.15) (3.1.0)\n",
            "Requirement already satisfied: werkzeug>=0.11.15 in /usr/local/lib/python3.7/dist-packages (from tensorboard<1.16.0,>=1.15.0->tensorflow<1.16,>=1.15.0->tensorflow_text==1.15) (1.0.1)\n",
            "Requirement already satisfied: markdown>=2.6.8 in /usr/local/lib/python3.7/dist-packages (from tensorboard<1.16.0,>=1.15.0->tensorflow<1.16,>=1.15.0->tensorflow_text==1.15) (3.3.4)\n",
            "Requirement already satisfied: setuptools>=41.0.0 in /usr/local/lib/python3.7/dist-packages (from tensorboard<1.16.0,>=1.15.0->tensorflow<1.16,>=1.15.0->tensorflow_text==1.15) (57.4.0)\n",
            "Requirement already satisfied: importlib-metadata in /usr/local/lib/python3.7/dist-packages (from markdown>=2.6.8->tensorboard<1.16.0,>=1.15.0->tensorflow<1.16,>=1.15.0->tensorflow_text==1.15) (4.8.1)\n",
            "Requirement already satisfied: cached-property in /usr/local/lib/python3.7/dist-packages (from h5py->keras-applications>=1.0.8->tensorflow<1.16,>=1.15.0->tensorflow_text==1.15) (1.5.2)\n",
            "Requirement already satisfied: zipp>=0.5 in /usr/local/lib/python3.7/dist-packages (from importlib-metadata->markdown>=2.6.8->tensorboard<1.16.0,>=1.15.0->tensorflow<1.16,>=1.15.0->tensorflow_text==1.15) (3.5.0)\n",
            "Requirement already satisfied: typing-extensions>=3.6.4 in /usr/local/lib/python3.7/dist-packages (from importlib-metadata->markdown>=2.6.8->tensorboard<1.16.0,>=1.15.0->tensorflow<1.16,>=1.15.0->tensorflow_text==1.15) (3.7.4.3)\n",
            "Installing collected packages: tensorflow-text\n",
            "Successfully installed tensorflow-text-1.15.0\n",
            "Found existing installation: h5py 3.1.0\n",
            "Uninstalling h5py-3.1.0:\n",
            "  Would remove:\n",
            "    /usr/local/lib/python3.7/dist-packages/h5py-3.1.0.dist-info/*\n",
            "    /usr/local/lib/python3.7/dist-packages/h5py.libs/libaec-9c9e97eb.so.0.0.10\n",
            "    /usr/local/lib/python3.7/dist-packages/h5py.libs/libhdf5-00e8fae8.so.200.0.0\n",
            "    /usr/local/lib/python3.7/dist-packages/h5py.libs/libhdf5_hl-383c339f.so.200.0.0\n",
            "    /usr/local/lib/python3.7/dist-packages/h5py.libs/libsz-e7aa62f5.so.2.0.1\n",
            "    /usr/local/lib/python3.7/dist-packages/h5py.libs/libz-eb09ad1d.so.1.2.3\n",
            "    /usr/local/lib/python3.7/dist-packages/h5py/*\n",
            "Proceed (y/n)? y\n",
            "  Successfully uninstalled h5py-3.1.0\n",
            "Collecting h5py==2.10.0\n",
            "  Downloading h5py-2.10.0-cp37-cp37m-manylinux1_x86_64.whl (2.9 MB)\n",
            "\u001b[K     |████████████████████████████████| 2.9 MB 5.2 MB/s \n",
            "\u001b[?25hRequirement already satisfied: numpy>=1.7 in /usr/local/lib/python3.7/dist-packages (from h5py==2.10.0) (1.19.5)\n",
            "Requirement already satisfied: six in /usr/local/lib/python3.7/dist-packages (from h5py==2.10.0) (1.15.0)\n",
            "Installing collected packages: h5py\n",
            "Successfully installed h5py-2.10.0\n"
          ]
        },
        {
          "output_type": "display_data",
          "data": {
            "application/vnd.colab-display-data+json": {
              "pip_warning": {
                "packages": [
                  "h5py"
                ]
              }
            }
          },
          "metadata": {}
        }
      ]
    },
    {
      "cell_type": "code",
      "metadata": {
        "id": "wqm8vy_QXZ3x"
      },
      "source": [
        "import tensorflow as tf\n",
        "import tensorflow_hub as hub\n",
        "from tensorflow import keras\n",
        "import numpy as np\n",
        "import pandas as pd\n",
        "import nltk, re\n",
        "from nltk.corpus import stopwords\n",
        "from sklearn.model_selection import train_test_split\n",
        "import tensorflow_text\n",
        "from sklearn import preprocessing"
      ],
      "execution_count": 1,
      "outputs": []
    },
    {
      "cell_type": "code",
      "metadata": {
        "colab": {
          "base_uri": "https://localhost:8080/"
        },
        "id": "x71FuAtyzVSC",
        "outputId": "d818febd-5036-4c75-c8de-0843922cd66c"
      },
      "source": [
        "from google.colab import drive\n",
        "drive.mount('/content/gdrive')"
      ],
      "execution_count": 2,
      "outputs": [
        {
          "output_type": "stream",
          "name": "stdout",
          "text": [
            "Mounted at /content/gdrive\n"
          ]
        }
      ]
    },
    {
      "cell_type": "code",
      "metadata": {
        "id": "XOVfc5w4OJZc"
      },
      "source": [
        "ds = pd.read_csv('/content/gdrive/MyDrive/Colab Notebooks/Sdataset.csv')"
      ],
      "execution_count": 12,
      "outputs": []
    },
    {
      "cell_type": "code",
      "metadata": {
        "id": "H9gIcPHVXgXZ"
      },
      "source": [
        "ds.dropna(subset=['Type'], inplace=True)"
      ],
      "execution_count": 21,
      "outputs": []
    },
    {
      "cell_type": "code",
      "metadata": {
        "id": "vtZ7pF0mQXRs"
      },
      "source": [
        "def deEmojify(text):\n",
        "    \"function to remove emojis from text\"\n",
        "    regrex_pattern = re.compile(\"[\"\n",
        "        u\"\\U0001F600-\\U0001F64F\"  # emoticons\n",
        "        u\"\\U0001F300-\\U0001F5FF\"  # symbols & pictographs\n",
        "        u\"\\U0001F680-\\U0001F6FF\"  # transport & map symbols\n",
        "        u\"\\U0001F1E0-\\U0001F1FF\"  # flags (iOS)\n",
        "        u\"\\U00002500-\\U00002BEF\"  # chinese char\n",
        "        u\"\\U00002702-\\U000027B0\"\n",
        "        u\"\\U00002702-\\U000027B0\"\n",
        "        u\"\\U000024C2-\\U0001F251\"\n",
        "        u\"\\U0001f926-\\U0001f937\"\n",
        "        u\"\\U00010000-\\U0010ffff\"\n",
        "        u\"\\u2640-\\u2642\" \n",
        "        u\"\\u2600-\\u2B55\"\n",
        "        u\"\\u200d\"\n",
        "        u\"\\u23cf\"\n",
        "        u\"\\u23e9\"\n",
        "        u\"\\u231a\"\n",
        "        u\"\\ufe0f\"  # dingbats\n",
        "        u\"\\u3030\"\n",
        "                      \"]+\", re.UNICODE)\n",
        "    return regrex_pattern.sub(r'',text)\n",
        "    \n",
        "for post in ds['Post']:\n",
        "  deEmojify(post)"
      ],
      "execution_count": 22,
      "outputs": []
    },
    {
      "cell_type": "code",
      "metadata": {
        "colab": {
          "base_uri": "https://localhost:8080/"
        },
        "id": "BGFVGKNlOOGB",
        "outputId": "d3ebec7a-06f5-448b-d760-db550974098f"
      },
      "source": [
        "nltk.download('stopwords')\n",
        "stop = stopwords.words('english')\n",
        "ds['Post'] = ds['Post'].apply(lambda x: \" \".join(x for x in x.split() if x not in stop))"
      ],
      "execution_count": 23,
      "outputs": [
        {
          "output_type": "stream",
          "name": "stdout",
          "text": [
            "[nltk_data] Downloading package stopwords to /root/nltk_data...\n",
            "[nltk_data]   Package stopwords is already up-to-date!\n"
          ]
        }
      ]
    },
    {
      "cell_type": "code",
      "metadata": {
        "id": "oyWlPhyGAetX"
      },
      "source": [
        "freq = pd.Series(' '.join(ds['Post']).split()).value_counts()[-10:]\n",
        "ds['Post'] = ds['Post'].apply(lambda x: \" \".join(x for x in x.split() if x not in freq))"
      ],
      "execution_count": 24,
      "outputs": []
    },
    {
      "cell_type": "code",
      "metadata": {
        "colab": {
          "base_uri": "https://localhost:8080/"
        },
        "id": "V7RLbcggBqN8",
        "outputId": "6d3a9842-e3d9-4331-9f3e-fed8cca4d33c"
      },
      "source": [
        "ds[\"Post\"]"
      ],
      "execution_count": 25,
      "outputs": [
        {
          "output_type": "execute_result",
          "data": {
            "text/plain": [
              "0      Introducing #Insecure #Comparison #javascript ...\n",
              "1      I want thread highly recomeneded, Free, browse...\n",
              "2      The GOSST (Google Open Source Security Team) h...\n",
              "3      Want learn new @RedHat OpenShift Streams Apach...\n",
              "4      Thrilled share article \"Saga Orchestration #Mi...\n",
              "                             ...                        \n",
              "315    The Netherlands long world's tallest nation — ...\n",
              "316    We know @Schwarzenegger became action star, be...\n",
              "317    39,000 Americans die gun violence every year. ...\n",
              "318    While Americans likely eligible Covid-19 vacci...\n",
              "319    Australia's nuclear-powered submarine deal fue...\n",
              "Name: Post, Length: 319, dtype: object"
            ]
          },
          "metadata": {},
          "execution_count": 25
        }
      ]
    },
    {
      "cell_type": "code",
      "metadata": {
        "id": "3qjmErL9Bydm"
      },
      "source": [
        "embed = hub.Module(\"https://tfhub.dev/google/elmo/3\", trainable=True)"
      ],
      "execution_count": 26,
      "outputs": []
    },
    {
      "cell_type": "code",
      "metadata": {
        "id": "zKyncIZ9B7hF"
      },
      "source": [
        "y = list(ds['Type'])\n",
        "x = list(ds['Post'])\n",
        "x_train, x_test, y_train, y_test = train_test_split(np.asarray(x), np.asarray(y), test_size=0.2, random_state=42)"
      ],
      "execution_count": 27,
      "outputs": []
    },
    {
      "cell_type": "code",
      "metadata": {
        "colab": {
          "base_uri": "https://localhost:8080/"
        },
        "id": "H2z6Kle8GKKC",
        "outputId": "dc0c36ef-06a0-4b3e-8b9b-c89348c8c7af"
      },
      "source": [
        "from tensorflow.keras.layers import Input, Lambda, Dense\n",
        "from tensorflow.keras.models import Model\n",
        "import tensorflow.keras.backend as K\n",
        "\n",
        "def ELMoEmbedding(x):\n",
        "    return embed(tf.squeeze(tf.cast(x, tf.string)), signature=\"default\", as_dict=True)[\"default\"]\n",
        "input_text = Input(shape=(1,), dtype=tf.string)\n",
        "embedding = Lambda(ELMoEmbedding, output_shape=(1024, ))(input_text)\n",
        "dense = Dense(256, activation='relu')(embedding)\n",
        "pred = Dense(3, activation='softmax')(dense)\n",
        "model = Model(inputs=[input_text], outputs=pred)\n",
        "model.compile(loss='sparse_categorical_crossentropy', optimizer='adam', metrics=['accuracy'])\n",
        "\n",
        "with tf.Session() as session:\n",
        "    K.set_session(session)\n",
        "    session.run(tf.global_variables_initializer())  \n",
        "    session.run(tf.tables_initializer())\n",
        "    history = model.fit(x_train, y_train, epochs=1, batch_size=16)\n",
        "    model.save_weights('./elmo-model.h5')\n",
        "\n",
        "with tf.Session() as session:\n",
        "    K.set_session(session)\n",
        "    session.run(tf.global_variables_initializer())\n",
        "    session.run(tf.tables_initializer())\n",
        "    model.load_weights('./elmo-model.h5')  \n",
        "    predicts = model.predict(x_test, batch_size=16)\n"
      ],
      "execution_count": 29,
      "outputs": [
        {
          "output_type": "stream",
          "name": "stdout",
          "text": [
            "INFO:tensorflow:Saver not created because there are no variables in the graph to restore\n"
          ]
        },
        {
          "output_type": "stream",
          "name": "stderr",
          "text": [
            "INFO:tensorflow:Saver not created because there are no variables in the graph to restore\n"
          ]
        },
        {
          "output_type": "stream",
          "name": "stdout",
          "text": [
            "Train on 255 samples\n",
            "255/255 [==============================] - 60s 237ms/sample - loss: 0.7408 - acc: 0.6706\n"
          ]
        }
      ]
    },
    {
      "cell_type": "code",
      "metadata": {
        "colab": {
          "base_uri": "https://localhost:8080/"
        },
        "id": "H52x1MKKSqxA",
        "outputId": "a744f617-5412-4414-96f8-e72c9421c0d2"
      },
      "source": [
        "model.get_config()"
      ],
      "execution_count": 30,
      "outputs": [
        {
          "output_type": "execute_result",
          "data": {
            "text/plain": [
              "{'input_layers': [['input_4', 0, 0]],\n",
              " 'layers': [{'class_name': 'InputLayer',\n",
              "   'config': {'batch_input_shape': (None, 1),\n",
              "    'dtype': 'string',\n",
              "    'name': 'input_4',\n",
              "    'ragged': False,\n",
              "    'sparse': False},\n",
              "   'inbound_nodes': [],\n",
              "   'name': 'input_4'},\n",
              "  {'class_name': 'Lambda',\n",
              "   'config': {'arguments': DictWrapper({}),\n",
              "    'dtype': 'string',\n",
              "    'function': ('4wEAAAAAAAAAAQAAAAcAAABDAAAAcyIAAAB0AHQBoAJ0AaADfAB0AWoEoQKhAWQBZAJkA40DZAEZ\\nAFMAKQRO2gdkZWZhdWx0VCkC2glzaWduYXR1cmXaB2FzX2RpY3QpBdoFZW1iZWTaAnRm2gdzcXVl\\nZXpl2gRjYXN02gZzdHJpbmcpAdoBeKkAcgoAAAD6HzxpcHl0aG9uLWlucHV0LTI5LTdiMzRhNjVl\\nOTQ1ND7aDUVMTW9FbWJlZGRpbmcFAAAAcwIAAAAAAQ==\\n',\n",
              "     None,\n",
              "     None),\n",
              "    'function_type': 'lambda',\n",
              "    'module': '__main__',\n",
              "    'name': 'lambda_3',\n",
              "    'output_shape': (1024,),\n",
              "    'output_shape_module': None,\n",
              "    'output_shape_type': 'raw',\n",
              "    'trainable': True},\n",
              "   'inbound_nodes': [[['input_4', 0, 0, {}]]],\n",
              "   'name': 'lambda_3'},\n",
              "  {'class_name': 'Dense',\n",
              "   'config': {'activation': 'relu',\n",
              "    'activity_regularizer': None,\n",
              "    'bias_constraint': None,\n",
              "    'bias_initializer': {'class_name': 'Zeros',\n",
              "     'config': {'dtype': 'float32'}},\n",
              "    'bias_regularizer': None,\n",
              "    'dtype': 'float32',\n",
              "    'kernel_constraint': None,\n",
              "    'kernel_initializer': {'class_name': 'GlorotUniform',\n",
              "     'config': {'dtype': 'float32', 'seed': None}},\n",
              "    'kernel_regularizer': None,\n",
              "    'name': 'dense_6',\n",
              "    'trainable': True,\n",
              "    'units': 256,\n",
              "    'use_bias': True},\n",
              "   'inbound_nodes': [[['lambda_3', 0, 0, {}]]],\n",
              "   'name': 'dense_6'},\n",
              "  {'class_name': 'Dense',\n",
              "   'config': {'activation': 'softmax',\n",
              "    'activity_regularizer': None,\n",
              "    'bias_constraint': None,\n",
              "    'bias_initializer': {'class_name': 'Zeros',\n",
              "     'config': {'dtype': 'float32'}},\n",
              "    'bias_regularizer': None,\n",
              "    'dtype': 'float32',\n",
              "    'kernel_constraint': None,\n",
              "    'kernel_initializer': {'class_name': 'GlorotUniform',\n",
              "     'config': {'dtype': 'float32', 'seed': None}},\n",
              "    'kernel_regularizer': None,\n",
              "    'name': 'dense_7',\n",
              "    'trainable': True,\n",
              "    'units': 3,\n",
              "    'use_bias': True},\n",
              "   'inbound_nodes': [[['dense_6', 0, 0, {}]]],\n",
              "   'name': 'dense_7'}],\n",
              " 'name': 'model_3',\n",
              " 'output_layers': [['dense_7', 0, 0]]}"
            ]
          },
          "metadata": {},
          "execution_count": 30
        }
      ]
    },
    {
      "cell_type": "code",
      "metadata": {
        "id": "CFOwKVBb55PY"
      },
      "source": [
        "le = preprocessing.LabelEncoder()\n",
        "le.fit(y)\n",
        "\n",
        "def decode(le, one_hot):\n",
        "    dec = np.argmax(one_hot, axis=1)\n",
        "    return le.inverse_transform(dec)\n",
        "\n",
        "y_pred= decode(le, predicts)"
      ],
      "execution_count": 31,
      "outputs": []
    },
    {
      "cell_type": "code",
      "metadata": {
        "colab": {
          "base_uri": "https://localhost:8080/"
        },
        "id": "aU8LjSFwHSjM",
        "outputId": "fe4ad887-2d70-4135-bcda-4918c46ec57c"
      },
      "source": [
        "from sklearn import metrics\n",
        "print(metrics.confusion_matrix(y_test, y_pred))\n",
        "print(metrics.classification_report(y_test, y_pred))\n",
        "from sklearn.metrics import accuracy_score\n",
        "print(\"Accuracy of ELMO is:\", accuracy_score(y_test,y_pred))"
      ],
      "execution_count": 32,
      "outputs": [
        {
          "output_type": "stream",
          "name": "stdout",
          "text": [
            "[[ 5 10  0]\n",
            " [ 0 29  0]\n",
            " [ 0  4 16]]\n",
            "              precision    recall  f1-score   support\n",
            "\n",
            "         0.0       1.00      0.33      0.50        15\n",
            "         1.0       0.67      1.00      0.81        29\n",
            "         2.0       1.00      0.80      0.89        20\n",
            "\n",
            "    accuracy                           0.78        64\n",
            "   macro avg       0.89      0.71      0.73        64\n",
            "weighted avg       0.85      0.78      0.76        64\n",
            "\n",
            "Accuracy of ELMO is: 0.78125\n"
          ]
        }
      ]
    },
    {
      "cell_type": "code",
      "metadata": {
        "id": "enBJrqYYEZOQ"
      },
      "source": [
        "from tensorflow.keras.models import save_model\n",
        "with tf.Session() as sess:\n",
        "  init = tf.global_variables_initializer()\n",
        "  sess.run(init)\n",
        "  model.save('/content/gdrive/MyDrive/Colab Notebooks/my_model.h5')"
      ],
      "execution_count": 33,
      "outputs": []
    },
    {
      "cell_type": "code",
      "metadata": {
        "id": "egV5pqdGRnoa"
      },
      "source": [
        "model_json = model.to_json()\n",
        "with open(\"/content/gdrive/MyDrive/Colab Notebooks/model_arch.json\", \"w\") as json_file:\n",
        "    json_file.write(model_json)"
      ],
      "execution_count": 34,
      "outputs": []
    },
    {
      "cell_type": "code",
      "metadata": {
        "id": "17PNQPGYSSAu"
      },
      "source": [
        "with tf.Session() as sess:\n",
        "  init = tf.global_variables_initializer()\n",
        "  sess.run(init)\n",
        "  model.save_weights(\"/content/gdrive/MyDrive/Colab Notebooks/my_model_weights.h5\")"
      ],
      "execution_count": 35,
      "outputs": []
    },
    {
      "cell_type": "code",
      "metadata": {
        "colab": {
          "base_uri": "https://localhost:8080/"
        },
        "id": "DE0LimWZPS27",
        "outputId": "dcc48d1f-e383-40ba-b216-5261b75fcd58"
      },
      "source": [
        "y_test"
      ],
      "execution_count": 36,
      "outputs": [
        {
          "output_type": "execute_result",
          "data": {
            "text/plain": [
              "array([2., 2., 1., 1., 1., 1., 2., 1., 0., 0., 1., 0., 0., 1., 1., 1., 1.,\n",
              "       2., 2., 2., 2., 2., 0., 2., 2., 1., 1., 1., 1., 1., 1., 2., 0., 1.,\n",
              "       2., 0., 2., 1., 0., 0., 2., 0., 2., 1., 0., 1., 0., 2., 1., 1., 1.,\n",
              "       1., 0., 0., 0., 1., 2., 2., 1., 2., 1., 1., 1., 2.])"
            ]
          },
          "metadata": {},
          "execution_count": 36
        }
      ]
    },
    {
      "cell_type": "code",
      "metadata": {
        "colab": {
          "base_uri": "https://localhost:8080/"
        },
        "id": "GFlbdJIjP1Fl",
        "outputId": "89e4175b-cb2d-433b-8575-e7df5b5995a7"
      },
      "source": [
        "y_pred"
      ],
      "execution_count": 37,
      "outputs": [
        {
          "output_type": "execute_result",
          "data": {
            "text/plain": [
              "array([1., 1., 1., 1., 1., 1., 2., 1., 1., 1., 1., 0., 0., 1., 1., 1., 1.,\n",
              "       1., 2., 2., 2., 2., 1., 2., 2., 1., 1., 1., 1., 1., 1., 2., 1., 1.,\n",
              "       2., 0., 2., 1., 1., 1., 2., 0., 2., 1., 1., 1., 1., 2., 1., 1., 1.,\n",
              "       1., 0., 1., 1., 1., 2., 1., 1., 2., 1., 1., 1., 2.])"
            ]
          },
          "metadata": {},
          "execution_count": 37
        }
      ]
    },
    {
      "cell_type": "code",
      "metadata": {
        "colab": {
          "base_uri": "https://localhost:8080/"
        },
        "id": "PE5QWpQcP2zh",
        "outputId": "31ea9606-6520-4506-f44f-f9cafdbbb163"
      },
      "source": [
        "x_test"
      ],
      "execution_count": 38,
      "outputs": [
        {
          "output_type": "execute_result",
          "data": {
            "text/plain": [
              "array(['Was happy speak friend @ScottMorrisonMP . We reviewed rapid progress India-Australia Comprehensive Strategic Partnership, including recent 2+2 Dialogue. We also exchanged perspectives regional developments forthcoming Quad meeting.',\n",
              "       'The game simple: win, money yours. If lose, Will play? Squid Game like Battle Royale meets Black Mirror — Netflix',\n",
              "       'Hello Warriors, The time come Capture The Flag Tamil CTF 2021 happening 10 Days Exciting Prizes HackTheBox, Rootme, Burp Bounty Infosec House. Register now: http://ctf.tamilctf.com',\n",
              "       'Programming Basics Learn basic computer programming skills master art writing C/C++ programs solve real world problems. https://www.edx.org/course/programming-basics',\n",
              "       '7 leadership #tech conferences consider fall https://buff.ly/2VRTlz2',\n",
              "       'Linux Strength Training - I completed room! Check out: https://tryhackme.com/room/linuxstrengthtraining #tryhackme #linux basics #command line #analysis #find #information gathering #mysql #gpg #linuxstrengthtraining via @realtryhackme',\n",
              "       'Got 100$ bounty today. Thanks pro players inspire daily more.',\n",
              "       \"Loving #Scrimba - may add TensorFlow.js tutorials there! It's like watching video except live editor audio commentary pause, edit code, try stuff out. Really neat. Consider using next coding tutorial! https://buff.ly/3mcpj3C\",\n",
              "       \"Hiring: Go Engineer, remote &/or Bristol, building back-end solutions around data handling service management telco's. c.£55-70k. Lots autonomy, freedom design technology choice. Team formed around remote asynchronous working.\",\n",
              "       'My team hiring! We looking Senior Software Engineer Productivity Engineering help build infrastructure tooling empower engineers across Netflix https://t.co/TO7xszCiHE?amp=1',\n",
              "       'Functional Programming Scala Specialization https://www.coursera.org/specializations/scala',\n",
              "       'Grafana Labs helps understand metrics dashboards easy create share. Now hiring remote! ⚡️ Frontend Engineer ⚡️ Python Backend Engineer - Cloud ⚡️ Sr Software Engineer Apply 👇nodesk.co/remote-compani...#remotework #remotejobs',\n",
              "       'New #remote #job Paralegal (Product Privacy) @gitlab https://wantremote.com/job/15219#1631884503',\n",
              "       'Day 1 #100DaysOfHacking Keycap digit one Pwned \"Katana\" @VulnHub hosted @offsectraining Proving Grounds Here write-up : https://blog.vincida.me/posts/Offsec-PG-KATANA/ Keycap digit two Completed \"Burp Suite : The Basics\" @RealTryHackMe Keycap digit three Read \"SSRF : Guide\" blog @RitikSahni22 https://t.co/B8MqPcXDxW?amp=1',\n",
              "       \"CS50's Introduction Computer Science An introduction intellectual enterprises computer science art programming. https://www.edx.org/course/introduction-computer-science-harvardx-cs50x\",\n",
              "       'Another simple way check iOS devices signs CVE-2021-30860 / FORCEDENTRY exploitation. Run MVT, simply: cat timeline.csv | grep \"Library/SMS/Attachments\" | grep -i \"\\\\.gif\" #nso #pegasus #malware #ios (thanks @DonnchaC tip!)',\n",
              "       'Who #Discord + wants social? Join #MadeWithTFJS server find like minded folk hack with, keep date, share cool #TensorFlowJS resources + projects found / created https://buff.ly/3lghXKd #JavaScript #JS #WebDev #AI #ML #CreativeCoding',\n",
              "       \"Great article valuable information Michael K. Williams' charity work celebrity status community. https://curbed.com/amp/2021/09/michael-k-williams-vanderveer-estates-hero.html\",\n",
              "       \"The Netherlands long world's tallest nation — people getting shorter, according Dutch researchers. https://t.co/MbbptRwRaC?amp=1\",\n",
              "       'Canada election: Why it’s easier vote Canada US https://t.co/WqYjEYUoGW?amp=1',\n",
              "       \"HOODIES! (and many goodies) up! These close 9/21! I hope excited I :'-)\",\n",
              "       \"My friends, depression real thing, real bad. There instances help people feel sad anonymous chats. If feel sad feel like can't take anymore ... please get help <3 There shame that. Much love stay strong\",\n",
              "       'I multiple Ph.D. positions robotics lab @PurdueCS starting Jan/Aug 2022 area combining robot control, machine learning, computer vision. If interested, please reach filling form (https://docs.google.com/forms/d/e/1FAIpQLSeq_yN58oOFeWIsxrVfBVMDCkjhBoiHNFs0MeHBe_lW356-Hg/viewform) asap. #Robotics #Jobs',\n",
              "       'The sunset Goa',\n",
              "       'wish u merry christmas wish u merry christmas wish u merry christmas wish u merry christmas AND A HAPPY NEW YEAR!!!',\n",
              "       'Hunting nonce-based CSP bypasses dynamic analysis @garethheyes https://t.co/AHYE0U5VnN?amp=1',\n",
              "       'CVE-2021-33035: RCE Apache OpenOffice 4.1.10 - pure memory corruption. Just talked #hacktivitycon full writeup https://medium.com/csg-govtech/all-your-d-base-are-belong-to-us-part-1-code-execution-in-apache-openoffice-cve-2021-33035-767fc7d6daf7?source=friends_link&sk=0cf113d71481c25f1a233e0c4f507357. More come CVE-2021-38646 Microsoft Office RCE...',\n",
              "       'Take ML skills next level 100 Keras code examples! Hundred points symbol These workflows cover computer vision, natural language processing, more! All created #Keras community. Check → http://keras.io/examples',\n",
              "       'Is possible compile-time validation literal strings?',\n",
              "       'I speaking @TensorFlow Everywhere Sydney hosted TFUG Sydney introduction TensorFlow.JS. TensorFlow Everywhere series global events led TensorFlow machine learning communities around world. #MadeWithTFJS #TFEverywhere2021 #TensorFlowJS',\n",
              "       'Day 29 #100DaysofCodewithHackerrank brings Towards Data Science podcast episode reviewing progress AI 2021 far!',\n",
              "       'xyz worst leader ever had.',\n",
              "       \"We're looking 4 #writers passion #gaming, #anime, #vtubing! 🔥 Remote | Part-time | Entry-level DM email us! writing@informedpixel.com\",\n",
              "       'Blockchain Revolution Specialization https://www.coursera.org/specializations/blockchain-revolution-enterprise',\n",
              "       \"Dubai set open world's largest observation wheel, Ain Dubai, October. It's almost twice height London Eye carry 1,750 passengers time.\",\n",
              "       \"We're hiring (remote onsite) Program Manager Salesforce Research & Insights Operations team! Check job description apply today! salesforce.smh.re/xTA\",\n",
              "       'U.S. resumes talks #Huawei CFO resolving criminal charges',\n",
              "       'WarpDrive: Extremely Fast End-to-End Deep Multi-Agent Reinforcement Learning GPU pdf: https://arxiv.org/pdf/2108.13976.pdf abs: https://arxiv.org/abs/2108.13976',\n",
              "       '@SharkCleaning growing! Hiring Brand Marketing Intern/Co-op - January - June 2022 (remote) https://startup.jobs/brand-marketing-intern-co-op-january-june-2022-sharkninja-2433991',\n",
              "       'Back End Developers needed PHP website ift.tt/3hHGOFR looking junior PHP developer join remote team. 100% remote, part-time position GITHUB/HTML/CSS/PHP We looking talented back-end developer https://www.freelancer.com/projects/php/Back-End-Developers-needed-for-31525632/?ngsw-bypass=&w=f',\n",
              "       'All systems weather looking good today’s Falcon 9 launch Dragon’s first all-civilian spaceflight. Webcast go live ~4 hours liftoff http://spacex.com/launches',\n",
              "       'HackerRank hiring remote Content Marketing Intern https://himalayas.app/companies/hackerrank/jobs/content-marketing-intern',\n",
              "       'All white setup',\n",
              "       'GitOps tools comparison If want switch classic CI/CD environments GitOps, choose large number available tools. However, always easy tell features support suitable project first glance. This article provides help making decision. https://cloudogu.com/en/blog/gitops-tools',\n",
              "       'Hey everyone — looking staff prospect researcher (in DC area), remote, need freelance prospect researching — please reach out! References redacted work sample available request!',\n",
              "       \"Want learn new @RedHat OpenShift Streams Apache Kafka service? Sign workshop tomorrow. Seats limited, grab one they're still available: hopin.com\",\n",
              "       'Digital Content Intern (Remote) | Walker Sands https://www.walkersands.com/about/careers/open-positions/digital-content-intern-remote/',\n",
              "       'Girls excluded Afghanistan secondary schools reopen',\n",
              "       'Server-side Development NodeJS, Express MongoDB https://www.coursera.org/learn/server-side-nodejs',\n",
              "       \"In place HackHarvard 2020, we're excited hosting massive, ultimate virtual hackathon @ivyhackathon amazing schools. Apply http://ivyhacks.com subscribe newsletter https://ivyhackathon.substack.com!\",\n",
              "       'Calling space students! Public address loudspeaker Building satellite? Register Academic Programme webinar get free/discounted space software Right pointing backhand index https://brightascension.com/academic-programme-webinar-registration/?twclid=11438746362250625031 #spacesoftware #flightsoftware #satellites #cubesats',\n",
              "       'RFCs understand JSON,JWT,SAML,0Auth indepth https://datatracker.ietf.org/doc/html/rfc7519 https://datatracker.ietf.org/doc/html/rfc7159 https://datatracker.ietf.org/doc/html/rfc7522 https://datatracker.ietf.org/doc/html/rfc6749 @TodayCyberNews #bugbounty #bugbountytips #cybersecurity #infosec',\n",
              "       'New #remote #job IT Helpdesk Analyst @gitlab https://wantremote.com/job/15218#1631882702',\n",
              "       'Calling FREELANCERS.. Looking Freelance Project Manager - Design Agency. Remote working Start ASAP 6 months Do get touch',\n",
              "       'I’m looking senior engineer work API. We work healthcare data good understanding security crucial. We’re building microservices Scala, JVM https://t.co/32Koz4tbYP?amp=1experience great.',\n",
              "       'Two favorite people! Be sure check @BekahHW @jlengstorf next Friday! Add calendar. If never experienced \"Learn Jason\" livestream, one attend. #MadeWithTFJS #TensorFlowJS #WebDev',\n",
              "       'Man, mention #SBOMs anywhere people like',\n",
              "       'Only one day go #BiggBossOTT Grand Finale! Spiral calendar padAre ready long awaited surprises tomorrow? Star-struck Join last stream today #BiggBossOTT 24x7 live channel! https://voot.onelink.me/eIb4/6b217460',\n",
              "       \"The SDLC describes five stages application development: requirements phase, design phase, coding phase, testing phase, release phase. Let's take look secure application five stages. https://t.co/GZeNFbUdc8?amp=1\",\n",
              "       'one rachel green’s prettiest hairstyle',\n",
              "       'The equation encapsulates everything know particle physics',\n",
              "       \"If work Go, bookmark page. The Busy Developers's Guide Go Profiling, Tracing Observability https://t.co/OeNvaTobV5?amp=1\",\n",
              "       'I put together quick video \"Why @FluxML \" Machine Learning: https://youtu.be/g_qstKogPYw It perfect, lot fun make. #JuliaLang #FluxML #MachineLearning',\n",
              "       'Congratulations celebrating 25 years @Bhansali_Prod . Sanjay Sir single handedly given Hindi cinema genre that’s exclusively his. Happy small part incredible legacy. Here’s magic'],\n",
              "      dtype='<U616')"
            ]
          },
          "metadata": {},
          "execution_count": 38
        }
      ]
    },
    {
      "cell_type": "code",
      "metadata": {
        "colab": {
          "base_uri": "https://localhost:8080/"
        },
        "id": "Uw8TelhUEvJ7",
        "outputId": "157cb022-10c6-4725-b66f-1b0e08227531"
      },
      "source": [
        "print(\"Printing all the Job Opportunities\")\n",
        "print(end=\"\\n\")\n",
        "for i in range(len(y_test)):\n",
        "  if y_pred[i] == 0:\n",
        "    print(x_test[i])\n",
        "\n",
        "print(end=\"\\n\")\n",
        "print(end='\\n')\n",
        "print(\"Printing all the Learning Resources\")\n",
        "print(end='\\n')\n",
        "for i in range(len(y_test)):\n",
        "  if y_pred[i] == 1:\n",
        "    print(x_test[i])"
      ],
      "execution_count": 40,
      "outputs": [
        {
          "output_type": "stream",
          "name": "stdout",
          "text": [
            "Printing all the Job Opportunities\n",
            "\n",
            "Grafana Labs helps understand metrics dashboards easy create share. Now hiring remote! ⚡️ Frontend Engineer ⚡️ Python Backend Engineer - Cloud ⚡️ Sr Software Engineer Apply 👇nodesk.co/remote-compani...#remotework #remotejobs\n",
            "New #remote #job Paralegal (Product Privacy) @gitlab https://wantremote.com/job/15219#1631884503\n",
            "We're hiring (remote onsite) Program Manager Salesforce Research & Insights Operations team! Check job description apply today! salesforce.smh.re/xTA\n",
            "HackerRank hiring remote Content Marketing Intern https://himalayas.app/companies/hackerrank/jobs/content-marketing-intern\n",
            "New #remote #job IT Helpdesk Analyst @gitlab https://wantremote.com/job/15218#1631882702\n",
            "\n",
            "\n",
            "Printing all the Learning Resources\n",
            "\n",
            "Was happy speak friend @ScottMorrisonMP . We reviewed rapid progress India-Australia Comprehensive Strategic Partnership, including recent 2+2 Dialogue. We also exchanged perspectives regional developments forthcoming Quad meeting.\n",
            "The game simple: win, money yours. If lose, Will play? Squid Game like Battle Royale meets Black Mirror — Netflix\n",
            "Hello Warriors, The time come Capture The Flag Tamil CTF 2021 happening 10 Days Exciting Prizes HackTheBox, Rootme, Burp Bounty Infosec House. Register now: http://ctf.tamilctf.com\n",
            "Programming Basics Learn basic computer programming skills master art writing C/C++ programs solve real world problems. https://www.edx.org/course/programming-basics\n",
            "7 leadership #tech conferences consider fall https://buff.ly/2VRTlz2\n",
            "Linux Strength Training - I completed room! Check out: https://tryhackme.com/room/linuxstrengthtraining #tryhackme #linux basics #command line #analysis #find #information gathering #mysql #gpg #linuxstrengthtraining via @realtryhackme\n",
            "Loving #Scrimba - may add TensorFlow.js tutorials there! It's like watching video except live editor audio commentary pause, edit code, try stuff out. Really neat. Consider using next coding tutorial! https://buff.ly/3mcpj3C\n",
            "Hiring: Go Engineer, remote &/or Bristol, building back-end solutions around data handling service management telco's. c.£55-70k. Lots autonomy, freedom design technology choice. Team formed around remote asynchronous working.\n",
            "My team hiring! We looking Senior Software Engineer Productivity Engineering help build infrastructure tooling empower engineers across Netflix https://t.co/TO7xszCiHE?amp=1\n",
            "Functional Programming Scala Specialization https://www.coursera.org/specializations/scala\n",
            "Day 1 #100DaysOfHacking Keycap digit one Pwned \"Katana\" @VulnHub hosted @offsectraining Proving Grounds Here write-up : https://blog.vincida.me/posts/Offsec-PG-KATANA/ Keycap digit two Completed \"Burp Suite : The Basics\" @RealTryHackMe Keycap digit three Read \"SSRF : Guide\" blog @RitikSahni22 https://t.co/B8MqPcXDxW?amp=1\n",
            "CS50's Introduction Computer Science An introduction intellectual enterprises computer science art programming. https://www.edx.org/course/introduction-computer-science-harvardx-cs50x\n",
            "Another simple way check iOS devices signs CVE-2021-30860 / FORCEDENTRY exploitation. Run MVT, simply: cat timeline.csv | grep \"Library/SMS/Attachments\" | grep -i \"\\.gif\" #nso #pegasus #malware #ios (thanks @DonnchaC tip!)\n",
            "Who #Discord + wants social? Join #MadeWithTFJS server find like minded folk hack with, keep date, share cool #TensorFlowJS resources + projects found / created https://buff.ly/3lghXKd #JavaScript #JS #WebDev #AI #ML #CreativeCoding\n",
            "Great article valuable information Michael K. Williams' charity work celebrity status community. https://curbed.com/amp/2021/09/michael-k-williams-vanderveer-estates-hero.html\n",
            "I multiple Ph.D. positions robotics lab @PurdueCS starting Jan/Aug 2022 area combining robot control, machine learning, computer vision. If interested, please reach filling form (https://docs.google.com/forms/d/e/1FAIpQLSeq_yN58oOFeWIsxrVfBVMDCkjhBoiHNFs0MeHBe_lW356-Hg/viewform) asap. #Robotics #Jobs\n",
            "Hunting nonce-based CSP bypasses dynamic analysis @garethheyes https://t.co/AHYE0U5VnN?amp=1\n",
            "CVE-2021-33035: RCE Apache OpenOffice 4.1.10 - pure memory corruption. Just talked #hacktivitycon full writeup https://medium.com/csg-govtech/all-your-d-base-are-belong-to-us-part-1-code-execution-in-apache-openoffice-cve-2021-33035-767fc7d6daf7?source=friends_link&sk=0cf113d71481c25f1a233e0c4f507357. More come CVE-2021-38646 Microsoft Office RCE...\n",
            "Take ML skills next level 100 Keras code examples! Hundred points symbol These workflows cover computer vision, natural language processing, more! All created #Keras community. Check → http://keras.io/examples\n",
            "Is possible compile-time validation literal strings?\n",
            "I speaking @TensorFlow Everywhere Sydney hosted TFUG Sydney introduction TensorFlow.JS. TensorFlow Everywhere series global events led TensorFlow machine learning communities around world. #MadeWithTFJS #TFEverywhere2021 #TensorFlowJS\n",
            "Day 29 #100DaysofCodewithHackerrank brings Towards Data Science podcast episode reviewing progress AI 2021 far!\n",
            "We're looking 4 #writers passion #gaming, #anime, #vtubing! 🔥 Remote | Part-time | Entry-level DM email us! writing@informedpixel.com\n",
            "Blockchain Revolution Specialization https://www.coursera.org/specializations/blockchain-revolution-enterprise\n",
            "WarpDrive: Extremely Fast End-to-End Deep Multi-Agent Reinforcement Learning GPU pdf: https://arxiv.org/pdf/2108.13976.pdf abs: https://arxiv.org/abs/2108.13976\n",
            "@SharkCleaning growing! Hiring Brand Marketing Intern/Co-op - January - June 2022 (remote) https://startup.jobs/brand-marketing-intern-co-op-january-june-2022-sharkninja-2433991\n",
            "Back End Developers needed PHP website ift.tt/3hHGOFR looking junior PHP developer join remote team. 100% remote, part-time position GITHUB/HTML/CSS/PHP We looking talented back-end developer https://www.freelancer.com/projects/php/Back-End-Developers-needed-for-31525632/?ngsw-bypass=&w=f\n",
            "GitOps tools comparison If want switch classic CI/CD environments GitOps, choose large number available tools. However, always easy tell features support suitable project first glance. This article provides help making decision. https://cloudogu.com/en/blog/gitops-tools\n",
            "Hey everyone — looking staff prospect researcher (in DC area), remote, need freelance prospect researching — please reach out! References redacted work sample available request!\n",
            "Want learn new @RedHat OpenShift Streams Apache Kafka service? Sign workshop tomorrow. Seats limited, grab one they're still available: hopin.com\n",
            "Digital Content Intern (Remote) | Walker Sands https://www.walkersands.com/about/careers/open-positions/digital-content-intern-remote/\n",
            "Server-side Development NodeJS, Express MongoDB https://www.coursera.org/learn/server-side-nodejs\n",
            "In place HackHarvard 2020, we're excited hosting massive, ultimate virtual hackathon @ivyhackathon amazing schools. Apply http://ivyhacks.com subscribe newsletter https://ivyhackathon.substack.com!\n",
            "Calling space students! Public address loudspeaker Building satellite? Register Academic Programme webinar get free/discounted space software Right pointing backhand index https://brightascension.com/academic-programme-webinar-registration/?twclid=11438746362250625031 #spacesoftware #flightsoftware #satellites #cubesats\n",
            "RFCs understand JSON,JWT,SAML,0Auth indepth https://datatracker.ietf.org/doc/html/rfc7519 https://datatracker.ietf.org/doc/html/rfc7159 https://datatracker.ietf.org/doc/html/rfc7522 https://datatracker.ietf.org/doc/html/rfc6749 @TodayCyberNews #bugbounty #bugbountytips #cybersecurity #infosec\n",
            "Calling FREELANCERS.. Looking Freelance Project Manager - Design Agency. Remote working Start ASAP 6 months Do get touch\n",
            "I’m looking senior engineer work API. We work healthcare data good understanding security crucial. We’re building microservices Scala, JVM https://t.co/32Koz4tbYP?amp=1experience great.\n",
            "Two favorite people! Be sure check @BekahHW @jlengstorf next Friday! Add calendar. If never experienced \"Learn Jason\" livestream, one attend. #MadeWithTFJS #TensorFlowJS #WebDev\n",
            "Only one day go #BiggBossOTT Grand Finale! Spiral calendar padAre ready long awaited surprises tomorrow? Star-struck Join last stream today #BiggBossOTT 24x7 live channel! https://voot.onelink.me/eIb4/6b217460\n",
            "The SDLC describes five stages application development: requirements phase, design phase, coding phase, testing phase, release phase. Let's take look secure application five stages. https://t.co/GZeNFbUdc8?amp=1\n",
            "The equation encapsulates everything know particle physics\n",
            "If work Go, bookmark page. The Busy Developers's Guide Go Profiling, Tracing Observability https://t.co/OeNvaTobV5?amp=1\n",
            "I put together quick video \"Why @FluxML \" Machine Learning: https://youtu.be/g_qstKogPYw It perfect, lot fun make. #JuliaLang #FluxML #MachineLearning\n"
          ]
        }
      ]
    },
    {
      "cell_type": "code",
      "metadata": {
        "id": "Qku8OACmiw_o"
      },
      "source": [
        ""
      ],
      "execution_count": null,
      "outputs": []
    }
  ]
}